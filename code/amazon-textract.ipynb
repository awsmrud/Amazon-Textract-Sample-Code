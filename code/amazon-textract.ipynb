{
 "cells": [
  {
   "cell_type": "markdown",
   "metadata": {},
   "source": [
    "## Amazon Textract Sample Code"
   ]
  },
  {
   "cell_type": "code",
   "execution_count": null,
   "metadata": {},
   "outputs": [],
   "source": [
    "import boto3"
   ]
  },
  {
   "cell_type": "code",
   "execution_count": null,
   "metadata": {},
   "outputs": [],
   "source": [
    "client = boto3.client('textract')"
   ]
  },
  {
   "cell_type": "code",
   "execution_count": 43,
   "metadata": {},
   "outputs": [],
   "source": [
    "# Set your bucket name\n",
    "bucket_name = '<bucket-name>'"
   ]
  },
  {
   "cell_type": "code",
   "execution_count": null,
   "metadata": {},
   "outputs": [],
   "source": [
    "response = client.analyze_document(\n",
    "    Document={\n",
    "        'S3Object': {\n",
    "            'Bucket': bucket_name,\n",
    "            'Name': '<file-name>'\n",
    "        }\n",
    "    },\n",
    "    FeatureTypes=['TABLES','FORMS']\n",
    ")"
   ]
  },
  {
   "cell_type": "code",
   "execution_count": null,
   "metadata": {},
   "outputs": [],
   "source": [
    "response"
   ]
  },
  {
   "cell_type": "code",
   "execution_count": null,
   "metadata": {},
   "outputs": [],
   "source": [
    "import json\n",
    "with open('response.json', 'w') as f:\n",
    "    json.dump(response, f)"
   ]
  },
  {
   "cell_type": "code",
   "execution_count": null,
   "metadata": {},
   "outputs": [],
   "source": [
    "detect_text_response = client.detect_document_text(\n",
    "    Document={\n",
    "        'S3Object': {\n",
    "            'Bucket': bucket_name,\n",
    "            'Name': '<file-name>'\n",
    "        }\n",
    "    }\n",
    ")"
   ]
  },
  {
   "cell_type": "code",
   "execution_count": null,
   "metadata": {},
   "outputs": [],
   "source": [
    "import json\n",
    "with open('detect_text_response.json', 'w') as f:\n",
    "    json.dump(detect_text_response, f)"
   ]
  },
  {
   "cell_type": "code",
   "execution_count": null,
   "metadata": {},
   "outputs": [],
   "source": [
    "doc_analysis_response = client.start_document_analysis(\n",
    "    DocumentLocation={\n",
    "        'S3Object': {\n",
    "            'Bucket': bucket_name,\n",
    "            'Name': '<pdf file name>'\n",
    "        }\n",
    "    },\n",
    "    FeatureTypes=[\n",
    "        'TABLES','FORMS'\n",
    "    ]\n",
    ")"
   ]
  },
  {
   "cell_type": "code",
   "execution_count": null,
   "metadata": {},
   "outputs": [],
   "source": [
    "doc_analysis_response"
   ]
  },
  {
   "cell_type": "code",
   "execution_count": null,
   "metadata": {},
   "outputs": [],
   "source": [
    "doc_analysis_results_response = client.get_document_analysis(\n",
    "    JobId='e35835458f497c5e618f9e609bdf36275cf57cb78fa8456a535a57e715badba7'\n",
    ")"
   ]
  },
  {
   "cell_type": "code",
   "execution_count": null,
   "metadata": {},
   "outputs": [],
   "source": [
    "doc_analysis_results_response"
   ]
  },
  {
   "cell_type": "code",
   "execution_count": null,
   "metadata": {},
   "outputs": [],
   "source": [
    "import json\n",
    "with open('doc_analysis_results_response.json', 'w') as f:\n",
    "    json.dump(doc_analysis_results_response, f)"
   ]
  },
  {
   "cell_type": "code",
   "execution_count": null,
   "metadata": {},
   "outputs": [],
   "source": [
    "doc_analysis_results_response2 = client.get_document_analysis(\n",
    "    JobId='e35835458f497c5e618f9e609bdf36275cf57cb78fa8456a535a57e715badba7',\n",
    "    NextToken=\"O3xpG+AUTCbG0bQiSJ24+JSVFVrTj2j+lHWEj0ETEiK1qRNKcGYOOhB6995xmrR2QyymIy1NiHtiYIUGTvTWWCDjRNanMuf6OK+is17ivLmrdlojbw==\"\n",
    ")"
   ]
  },
  {
   "cell_type": "code",
   "execution_count": null,
   "metadata": {},
   "outputs": [],
   "source": [
    "import json\n",
    "with open('doc_analysis_results_response2.json', 'w') as f:\n",
    "    json.dump(doc_analysis_results_response2, f)"
   ]
  },
  {
   "cell_type": "code",
   "execution_count": null,
   "metadata": {},
   "outputs": [],
   "source": [
    "analyze_doc_response = client.analyze_document(\n",
    "    Document={\n",
    "        'S3Object': {\n",
    "            'Bucket': bucket_name,\n",
    "            'Name': '<png file name>'\n",
    "        }\n",
    "    },\n",
    "    FeatureTypes=[\n",
    "        'TABLES','FORMS'\n",
    "    ],\n",
    "    HumanLoopConfig={\n",
    "        'HumanLoopName': 'textract-a2i',\n",
    "        'FlowDefinitionArn': '<flow-definition-arn>',\n",
    "        'DataAttributes': {\n",
    "            'ContentClassifiers': [\n",
    "                'FreeOfPersonallyIdentifiableInformation','FreeOfAdultContent'\n",
    "            ]\n",
    "        }\n",
    "    }\n",
    ")"
   ]
  },
  {
   "cell_type": "code",
   "execution_count": null,
   "metadata": {},
   "outputs": [],
   "source": [
    "analyze_doc_response"
   ]
  },
  {
   "cell_type": "code",
   "execution_count": null,
   "metadata": {},
   "outputs": [],
   "source": [
    "import json\n",
    "with open('analyze_doc_response.json', 'w') as f:\n",
    "    json.dump(analyze_doc_response, f)"
   ]
  },
  {
   "cell_type": "code",
   "execution_count": null,
   "metadata": {},
   "outputs": [],
   "source": []
  }
 ],
 "metadata": {
  "instance_type": "ml.t3.medium",
  "kernelspec": {
   "display_name": "Python 3 (Data Science)",
   "language": "python",
   "name": "python3__SAGEMAKER_INTERNAL__arn:aws:sagemaker:us-east-1:081325390199:image/datascience-1.0"
  },
  "language_info": {
   "codemirror_mode": {
    "name": "ipython",
    "version": 3
   },
   "file_extension": ".py",
   "mimetype": "text/x-python",
   "name": "python",
   "nbconvert_exporter": "python",
   "pygments_lexer": "ipython3",
   "version": "3.7.6"
  }
 },
 "nbformat": 4,
 "nbformat_minor": 4
}
